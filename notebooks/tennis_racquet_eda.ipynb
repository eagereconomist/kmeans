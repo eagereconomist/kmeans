{
 "cells": [
  {
   "cell_type": "code",
   "execution_count": null,
   "id": "7550d9c0",
   "metadata": {},
   "outputs": [
    {
     "data": {
      "text/plain": [
       "\u001b[32m2025-04-21 20:02:58.048\u001b[0m | \u001b[1mINFO    \u001b[0m | \u001b[36mtennis_racquet_analysis.data_ingestion\u001b[0m:\u001b[36mmain\u001b[0m:\u001b[36m18\u001b[0m - \u001b[1mStarting data ingestion pipeline...\u001b[0m\n",
       "\u001b[32m2025-04-21 20:02:58.051\u001b[0m | \u001b[1mINFO    \u001b[0m | \u001b[36mtennis_racquet_analysis.preprocessing_utils\u001b[0m:\u001b[36mload_data\u001b[0m:\u001b[36m7\u001b[0m - \u001b[1mLooking for file at: C:\\Users\\ericm\\pyproj\\tennis-racquet-analysis\\data\\raw\\tennis_racquets.csv\u001b[0m\n",
       "\u001b[32m2025-04-21 20:02:58.054\u001b[0m | \u001b[1mINFO    \u001b[0m | \u001b[36mtennis_racquet_analysis.preprocessing_utils\u001b[0m:\u001b[36mload_data\u001b[0m:\u001b[36m10\u001b[0m - \u001b[1mData loaded successfully!\u001b[0m\n",
       "\u001b[32m2025-04-21 20:02:58.054\u001b[0m | \u001b[1mINFO    \u001b[0m | \u001b[36mtennis_racquet_analysis.data_ingestion\u001b[0m:\u001b[36mmain\u001b[0m:\u001b[36m27\u001b[0m - \u001b[1mIngested DataFrame type: <class 'pandas.core.frame.DataFrame'>\u001b[0m\n",
       "\u001b[32m2025-04-21 20:02:58.054\u001b[0m | \u001b[1mINFO    \u001b[0m | \u001b[36mtennis_racquet_analysis.data_ingestion\u001b[0m:\u001b[36mmain\u001b[0m:\u001b[36m28\u001b[0m - \u001b[1mDataFrame dimensions: (31, 7)\u001b[0m\n",
       "\u001b[32m2025-04-21 20:02:58.054\u001b[0m | \u001b[32m\u001b[1mSUCCESS \u001b[0m | \u001b[36mtennis_racquet_analysis.data_ingestion\u001b[0m:\u001b[36mmain\u001b[0m:\u001b[36m29\u001b[0m - \u001b[32m\u001b[1mCompleted data ingestion from WindowsPath('C:/Users/ericm/pyproj/tennis-racquet-analysis/data/raw/tennis_racquets.csv')\u001b[0m\n"
      ]
     },
     "metadata": {},
     "output_type": "display_data"
    }
   ],
   "source": [
    "from tennis_racquet_analysis.data_ingestion import main\n",
    "df = main(\"tennis_racquets.csv\", preview=False)\n",
    "assert df.shape == (31, 7)"
   ]
  },
  {
   "cell_type": "code",
   "execution_count": null,
   "id": "a232ae41",
   "metadata": {},
   "outputs": [
    {
     "data": {
      "text/plain": [
       "                Racquet  length  ...  headsize  beamwidth\n",
       "0              Asics109   27.25  ...       109       25.0\n",
       "1              Asics116   27.25  ...       116       25.0\n",
       "2              Asics125   27.50  ...       125       28.0\n",
       "3      BabolatPureDrive   27.00  ...       100       26.0\n",
       "4  BabolatPureDriveLite   27.00  ...       100       25.0\n",
       "\n",
       "[5 rows x 7 columns]\n"
      ]
     },
     "metadata": {},
     "output_type": "display_data"
    }
   ],
   "source": [
    "df.head()"
   ]
  },
  {
   "cell_type": "code",
   "execution_count": null,
   "id": "b8f2d3b9",
   "metadata": {},
   "outputs": [
    {
     "data": {
      "text/plain": [
       "31\n"
      ]
     },
     "metadata": {},
     "output_type": "display_data"
    }
   ],
   "source": [
    "len(df)"
   ]
  },
  {
   "cell_type": "code",
   "execution_count": null,
   "id": "989ce063",
   "metadata": {},
   "outputs": [
    {
     "data": {
      "text/plain": [
       "(31, 7)\n"
      ]
     },
     "metadata": {},
     "output_type": "display_data"
    }
   ],
   "source": [
    "df.shape"
   ]
  },
  {
   "cell_type": "code",
   "execution_count": null,
   "id": "38cf771c",
   "metadata": {},
   "outputs": [
    {
     "data": {
      "text/plain": [
       "Racquet          31\n",
       "length           31\n",
       "static.weight    31\n",
       "balance          31\n",
       "swingweight      31\n",
       "headsize         31\n",
       "beamwidth        31\n",
       "dtype: int64\n"
      ]
     },
     "metadata": {},
     "output_type": "display_data"
    }
   ],
   "source": [
    "df.count()"
   ]
  },
  {
   "cell_type": "code",
   "execution_count": null,
   "id": "4a286294",
   "metadata": {},
   "outputs": [
    {
     "data": {
      "text/plain": [
       "Racquet           object\n",
       "length           float64\n",
       "static.weight    float64\n",
       "balance          float64\n",
       "swingweight        int64\n",
       "headsize           int64\n",
       "beamwidth        float64\n",
       "dtype: object\n"
      ]
     },
     "metadata": {},
     "output_type": "display_data"
    }
   ],
   "source": [
    "df.dtypes"
   ]
  },
  {
   "cell_type": "code",
   "execution_count": null,
   "id": "c8be04d6",
   "metadata": {},
   "outputs": [
    {
     "data": {
      "text/plain": [
       "          length  static.weight    balance  swingweight    headsize  beamwidth\n",
       "count  31.000000      31.000000  31.000000    31.000000   31.000000  31.000000\n",
       "mean   27.090323      10.931613   0.466387   310.612903  102.129032  23.887097\n",
       "std     0.160426       0.695256   0.318315    12.222050    6.731726   2.891683\n",
       "min    27.000000       9.600000  -0.375000   280.000000   93.000000  19.000000\n",
       "25%    27.000000      10.450000   0.354000   303.000000   98.000000  21.500000\n",
       "50%    27.000000      11.000000   0.500000   312.000000  100.000000  23.500000\n",
       "75%    27.225000      11.400000   0.625000   320.000000  107.000000  26.000000\n",
       "max    27.600000      12.200000   1.000000   330.000000  125.000000  29.000000\n"
      ]
     },
     "metadata": {},
     "output_type": "display_data"
    }
   ],
   "source": [
    "df.describe()"
   ]
  },
  {
   "cell_type": "code",
   "execution_count": null,
   "id": "967c7e1a",
   "metadata": {},
   "outputs": [
    {
     "data": {
      "text/plain": [
       "Racquet\n",
       "Asics109                1\n",
       "Asics116                1\n",
       "Asics125                1\n",
       "BabolatPureDrive        1\n",
       "BabolatPureDriveLite    1\n",
       "Name: count, dtype: int64\n"
      ]
     },
     "metadata": {},
     "output_type": "display_data"
    }
   ],
   "source": [
    "df.Racquet.value_counts().head()"
   ]
  },
  {
   "cell_type": "code",
   "execution_count": null,
   "id": "a173fe07",
   "metadata": {},
   "outputs": [
    {
     "data": {
      "text/plain": [
       "           Racquet  length  static.weight  ...  swingweight  headsize  beamwidth\n",
       "16  HeadRadicalPro    27.0           11.5  ...          330        98       21.5\n",
       "18   PrinceRebel95    27.0           12.0  ...          330        95       20.0\n",
       "9      GammaRZR98T    27.0           11.9  ...          328        98       22.0\n",
       "19   PrinceRebel98    27.0           11.1  ...          322        98       21.0\n",
       "28    YonexEZone98    27.0           11.5  ...          321        98       24.0\n",
       "\n",
       "[5 rows x 7 columns]\n"
      ]
     },
     "metadata": {},
     "output_type": "display_data"
    }
   ],
   "source": [
    "df.sort_values(by='swingweight', ascending=False).head()"
   ]
  },
  {
   "cell_type": "code",
   "execution_count": null,
   "id": "31c090da",
   "metadata": {},
   "outputs": [
    {
     "data": {
      "text/plain": [
       "                   Racquet  length  ...  headsize  beamwidth\n",
       "0                 Asics109   27.25  ...       109       25.0\n",
       "1                 Asics116   27.25  ...       116       25.0\n",
       "2                 Asics125   27.50  ...       125       28.0\n",
       "5      BabolatPureDrive107   27.20  ...       107       25.0\n",
       "7      DunlopBiomimetic700   27.25  ...       110       28.0\n",
       "15     HeadRadicalOversize   27.00  ...       107       21.5\n",
       "22   VolklOrganixV1Midplus   27.00  ...       102       28.0\n",
       "23  VolklOrganixV1Oversize   27.60  ...       110       29.0\n",
       "25          WilsonJuice108   27.25  ...       108       26.0\n",
       "30           YonexEZone107   27.00  ...       107       29.0\n",
       "\n",
       "[10 rows x 7 columns]\n"
      ]
     },
     "metadata": {},
     "output_type": "display_data"
    }
   ],
   "source": [
    "df[(df[\"headsize\"]) > 100]"
   ]
  },
  {
   "cell_type": "code",
   "execution_count": null,
   "id": "6f5b30be",
   "metadata": {},
   "outputs": [
    {
     "data": {
      "text/plain": [
       "                     Racquet  length  ...  headsize  beamwidth\n",
       "0                   Asics109   27.25  ...       109       25.0\n",
       "1                   Asics116   27.25  ...       116       25.0\n",
       "2                   Asics125   27.50  ...       125       28.0\n",
       "5        BabolatPureDrive107   27.20  ...       107       25.0\n",
       "7        DunlopBiomimetic700   27.25  ...       110       28.0\n",
       "23    VolklOrganixV1Oversize   27.60  ...       110       29.0\n",
       "25            WilsonJuice108   27.25  ...       108       26.0\n",
       "26  WilsonProStaffSix.One100   27.25  ...       100       22.0\n",
       "27            WilsonSteam100   27.25  ...       100       23.0\n",
       "\n",
       "[9 rows x 7 columns]\n"
      ]
     },
     "metadata": {},
     "output_type": "display_data"
    }
   ],
   "source": [
    "df[(df[\"length\"]) > 27]"
   ]
  },
  {
   "cell_type": "code",
   "execution_count": null,
   "id": "0c877453",
   "metadata": {},
   "outputs": [
    {
     "data": {
      "text/plain": [
       "               Racquet  length  static.weight  ...  swingweight  headsize  beamwidth\n",
       "1             Asics116   27.25            9.6  ...          287       116       25.0\n",
       "2             Asics125   27.50            9.6  ...          303       125       28.0\n",
       "7  DunlopBiomimetic700   27.25            9.7  ...          302       110       28.0\n",
       "\n",
       "[3 rows x 7 columns]\n"
      ]
     },
     "metadata": {},
     "output_type": "display_data"
    }
   ],
   "source": [
    "df[(df[\"static.weight\"]) <= 10.05]"
   ]
  },
  {
   "cell_type": "code",
   "execution_count": null,
   "id": "053a758a",
   "metadata": {},
   "outputs": [
    {
     "data": {
      "text/plain": [
       "                     Racquet  length  ...  headsize  beamwidth\n",
       "1                   Asics116   27.25  ...       116       25.0\n",
       "2                   Asics125   27.50  ...       125       28.0\n",
       "3           BabolatPureDrive   27.00  ...       100       26.0\n",
       "4       BabolatPureDriveLite   27.00  ...       100       25.0\n",
       "5        BabolatPureDrive107   27.20  ...       107       25.0\n",
       "7        DunlopBiomimetic700   27.25  ...       110       28.0\n",
       "8                 GammaRZR98   27.00  ...        98       22.0\n",
       "11       HeadPrestigeMidplus   27.00  ...        98       21.0\n",
       "13             HeadPrestigeS   27.00  ...        98       22.0\n",
       "15       HeadRadicalOversize   27.00  ...       107       21.5\n",
       "17              HeadRadicalS   27.00  ...       100       23.5\n",
       "21              SolincoTour8   27.00  ...        98       21.0\n",
       "22     VolklOrganixV1Midplus   27.00  ...       102       28.0\n",
       "23    VolklOrganixV1Oversize   27.60  ...       110       29.0\n",
       "24            WilsonJuice100   27.00  ...       100       26.5\n",
       "25            WilsonJuice108   27.25  ...       108       26.0\n",
       "26  WilsonProStaffSix.One100   27.25  ...       100       22.0\n",
       "27            WilsonSteam100   27.25  ...       100       23.0\n",
       "29             YonexEZone100   27.00  ...       100       27.0\n",
       "30             YonexEZone107   27.00  ...       107       29.0\n",
       "\n",
       "[20 rows x 7 columns]\n"
      ]
     },
     "metadata": {},
     "output_type": "display_data"
    }
   ],
   "source": [
    "df[(df[\"swingweight\"]) <= 315]"
   ]
  },
  {
   "cell_type": "code",
   "execution_count": null,
   "id": "d2063066",
   "metadata": {},
   "outputs": [
    {
     "data": {
      "text/plain": [
       "                   Racquet  length  ...  headsize  beamwidth\n",
       "0                 Asics109   27.25  ...       109       25.0\n",
       "1                 Asics116   27.25  ...       116       25.0\n",
       "2                 Asics125   27.50  ...       125       28.0\n",
       "3         BabolatPureDrive   27.00  ...       100       26.0\n",
       "4     BabolatPureDriveLite   27.00  ...       100       25.0\n",
       "5      BabolatPureDrive107   27.20  ...       107       25.0\n",
       "7      DunlopBiomimetic700   27.25  ...       110       28.0\n",
       "20        PrinceWarrior100   27.00  ...       100       26.0\n",
       "22   VolklOrganixV1Midplus   27.00  ...       102       28.0\n",
       "23  VolklOrganixV1Oversize   27.60  ...       110       29.0\n",
       "24          WilsonJuice100   27.00  ...       100       26.5\n",
       "25          WilsonJuice108   27.25  ...       108       26.0\n",
       "28            YonexEZone98   27.00  ...        98       24.0\n",
       "29           YonexEZone100   27.00  ...       100       27.0\n",
       "30           YonexEZone107   27.00  ...       107       29.0\n",
       "\n",
       "[15 rows x 7 columns]\n"
      ]
     },
     "metadata": {},
     "output_type": "display_data"
    }
   ],
   "source": [
    "df[df[(\"beamwidth\")] >= 24]"
   ]
  },
  {
   "cell_type": "code",
   "execution_count": null,
   "id": "f6a0e93b",
   "metadata": {},
   "outputs": [
    {
     "data": {
      "text/plain": [
       "               Racquet  length  static.weight  ...  swingweight  headsize  beamwidth\n",
       "1             Asics116   27.25            9.6  ...          287       116       25.0\n",
       "2             Asics125   27.50            9.6  ...          303       125       28.0\n",
       "7  DunlopBiomimetic700   27.25            9.7  ...          302       110       28.0\n",
       "\n",
       "[3 rows x 7 columns]\n"
      ]
     },
     "metadata": {},
     "output_type": "display_data"
    }
   ],
   "source": [
    "beginner = df[(df[\"headsize\"] > 100) & (df[\"length\"] > 27) & (df[\"static.weight\"] <= 10.05) & (df[\"swingweight\"] <= 315) & (df[\"beamwidth\"] >= 24)]\n",
    "print(beginner)"
   ]
  },
  {
   "cell_type": "code",
   "execution_count": null,
   "id": "ea42bfd6",
   "metadata": {},
   "outputs": [],
   "source": []
  }
 ],
 "metadata": {
  "language_info": {
   "name": "python"
  }
 },
 "nbformat": 4,
 "nbformat_minor": 5
}
